{
 "cells": [
  {
   "cell_type": "markdown",
   "id": "8213aaa4",
   "metadata": {},
   "source": [
    "# Heart Disease Classification (Kaggle)\n",
    "\n",
    "This notebook trains and evaluates three models (Logistic Regression, Random Forest, Neural Network) to predict the presence of heart disease based on the classic Kaggle Heart Disease dataset."
   ]
  },
  {
   "cell_type": "code",
   "execution_count": null,
   "id": "ce3e2a26",
   "metadata": {},
   "outputs": [],
   "source": [
    "# Install libraries if needed (uncomment if running in fresh Colab)\n",
    "# !pip install numpy pandas scikit-learn matplotlib seaborn joblib tensorflow\n",
    "\n",
    "import numpy as np\n",
    "import pandas as pd\n",
    "import matplotlib.pyplot as plt\n",
    "import seaborn as sns\n",
    "import joblib\n",
    "import tensorflow as tf\n",
    "\n",
    "from sklearn.model_selection import train_test_split, StratifiedKFold, GridSearchCV\n",
    "from sklearn.preprocessing import StandardScaler\n",
    "from sklearn.pipeline import Pipeline\n",
    "from sklearn.linear_model import LogisticRegression\n",
    "from sklearn.ensemble import RandomForestClassifier\n",
    "from sklearn.metrics import accuracy_score, precision_score, recall_score, f1_score, roc_auc_score, confusion_matrix, RocCurveDisplay\n"
   ]
  },
  {
   "cell_type": "code",
   "execution_count": null,
   "id": "bc60e058",
   "metadata": {},
   "outputs": [],
   "source": [
    "# Load dataset (ensure heart.csv is in working directory)\n",
    "df = pd.read_csv(\"data/heart.csv\")\n",
    "\n",
    "print(\"Dataset shape:\", df.shape)\n",
    "df.head()\n"
   ]
  },
  {
   "cell_type": "code",
   "execution_count": null,
   "id": "0c5d43c6",
   "metadata": {},
   "outputs": [],
   "source": [
    "df.info()\n",
    "print(\"\\nClass distribution:\")\n",
    "print(df['target'].value_counts())\n",
    "sns.countplot(x='target', data=df)\n",
    "plt.title(\"Target Distribution\")\n",
    "plt.show()\n"
   ]
  },
  {
   "cell_type": "code",
   "execution_count": null,
   "id": "a2ebb13e",
   "metadata": {},
   "outputs": [],
   "source": [
    "plt.figure(figsize=(10,8))\n",
    "sns.heatmap(df.corr(), annot=True, cmap='coolwarm', fmt=\".2f\")\n",
    "plt.title(\"Correlation Heatmap\")\n",
    "plt.show()\n"
   ]
  },
  {
   "cell_type": "code",
   "execution_count": null,
   "id": "9224da7b",
   "metadata": {},
   "outputs": [],
   "source": [
    "RANDOM_SEED = 42\n",
    "X = df.drop('target', axis=1)\n",
    "y = df['target']\n",
    "\n",
    "X_train, X_test, y_train, y_test = train_test_split(\n",
    "    X, y, test_size=0.2, stratify=y, random_state=RANDOM_SEED)\n"
   ]
  },
  {
   "cell_type": "code",
   "execution_count": null,
   "id": "b4f77106",
   "metadata": {},
   "outputs": [],
   "source": [
    "pipe_lr = Pipeline([\n",
    "    ('scaler', StandardScaler()),\n",
    "    ('lr', LogisticRegression(max_iter=2000, random_state=RANDOM_SEED))\n",
    "])\n",
    "pipe_lr.fit(X_train, y_train)\n",
    "y_pred_lr = pipe_lr.predict(X_test)\n",
    "\n",
    "print(\"Logistic Regression Accuracy:\", accuracy_score(y_test, y_pred_lr))\n",
    "print(\"F1:\", f1_score(y_test, y_pred_lr))\n",
    "print(\"ROC AUC:\", roc_auc_score(y_test, pipe_lr.predict_proba(X_test)[:,1]))\n"
   ]
  },
  {
   "cell_type": "code",
   "execution_count": null,
   "id": "a8fba082",
   "metadata": {},
   "outputs": [],
   "source": [
    "rf = RandomForestClassifier(n_estimators=200, min_samples_split=5, random_state=RANDOM_SEED)\n",
    "rf.fit(X_train, y_train)\n",
    "y_pred_rf = rf.predict(X_test)\n",
    "\n",
    "print(\"Random Forest Accuracy:\", accuracy_score(y_test, y_pred_rf))\n",
    "print(\"F1:\", f1_score(y_test, y_pred_rf))\n",
    "print(\"ROC AUC:\", roc_auc_score(y_test, rf.predict_proba(X_test)[:,1]))\n"
   ]
  },
  {
   "cell_type": "code",
   "execution_count": null,
   "id": "6f9f0f1a",
   "metadata": {},
   "outputs": [],
   "source": [
    "importances = pd.Series(rf.feature_importances_, index=X.columns).sort_values(ascending=False)\n",
    "importances.plot(kind='bar', figsize=(10,5), title=\"Random Forest Feature Importance\")\n",
    "plt.show()\n"
   ]
  },
  {
   "cell_type": "code",
   "execution_count": null,
   "id": "08d64483",
   "metadata": {},
   "outputs": [],
   "source": [
    "scaler = StandardScaler()\n",
    "X_train_scaled = scaler.fit_transform(X_train)\n",
    "X_test_scaled = scaler.transform(X_test)\n",
    "\n",
    "mlp = tf.keras.Sequential([\n",
    "    tf.keras.layers.Dense(32, activation='relu', input_shape=(X_train_scaled.shape[1],)),\n",
    "    tf.keras.layers.Dropout(0.2),\n",
    "    tf.keras.layers.Dense(16, activation='relu'),\n",
    "    tf.keras.layers.Dense(1, activation='sigmoid')\n",
    "])\n",
    "\n",
    "mlp.compile(optimizer='adam', loss='binary_crossentropy', metrics=['accuracy'])\n",
    "early_stop = tf.keras.callbacks.EarlyStopping(patience=5, restore_best_weights=True)\n",
    "\n",
    "history = mlp.fit(X_train_scaled, y_train, validation_split=0.2, epochs=100, batch_size=16, callbacks=[early_stop], verbose=0)\n",
    "\n",
    "y_pred_nn_prob = mlp.predict(X_test_scaled).ravel()\n",
    "y_pred_nn = (y_pred_nn_prob > 0.5).astype(int)\n",
    "\n",
    "print(\"Neural Network Accuracy:\", accuracy_score(y_test, y_pred_nn))\n",
    "print(\"F1:\", f1_score(y_test, y_pred_nn))\n",
    "print(\"ROC AUC:\", roc_auc_score(y_test, y_pred_nn_prob))\n"
   ]
  },
  {
   "cell_type": "code",
   "execution_count": null,
   "id": "38015bfb",
   "metadata": {},
   "outputs": [],
   "source": [
    "joblib.dump(pipe_lr, \"models/logistic_pipeline.joblib\")\n",
    "joblib.dump(rf, \"models/random_forest.joblib\")\n",
    "joblib.dump(scaler, \"models/scaler.joblib\")\n",
    "mlp.save(\"models/neural_network.keras\")\n",
    "\n",
    "print(\"Models saved to ./models/\")\n"
   ]
  },
  {
   "cell_type": "code",
   "execution_count": null,
   "id": "be9a6e19",
   "metadata": {},
   "outputs": [],
   "source": [
    "# Reload models and test inference\n",
    "pipe_lr_loaded = joblib.load(\"models/logistic_pipeline.joblib\")\n",
    "rf_loaded = joblib.load(\"models/random_forest.joblib\")\n",
    "scaler_loaded = joblib.load(\"models/scaler.joblib\")\n",
    "mlp_loaded = tf.keras.models.load_model(\"models/neural_network.keras\")\n",
    "\n",
    "sample = {\n",
    "    \"age\": 63, \"sex\":1,\"cp\":3,\"trestbps\":145,\"chol\":233,\"fbs\":1,\n",
    "    \"restecg\":0,\"thalach\":150,\"exang\":0,\"oldpeak\":2.3,\"slope\":0,\n",
    "    \"ca\":0,\"thal\":1\n",
    "}\n",
    "X_sample = pd.DataFrame([sample])\n",
    "\n",
    "pred_lr = pipe_lr_loaded.predict(X_sample)[0]\n",
    "prob_lr = pipe_lr_loaded.predict_proba(X_sample)[:,1][0]\n",
    "\n",
    "pred_rf = rf_loaded.predict(X_sample)[0]\n",
    "prob_rf = rf_loaded.predict_proba(X_sample)[:,1][0]\n",
    "\n",
    "X_sample_scaled = scaler_loaded.transform(X_sample)\n",
    "prob_nn = mlp_loaded.predict(X_sample_scaled).ravel()[0]\n",
    "pred_nn = int(prob_nn > 0.5)\n",
    "\n",
    "print(\"Logistic Regression:\", pred_lr, prob_lr)\n",
    "print(\"Random Forest:\", pred_rf, prob_rf)\n",
    "print(\"Neural Net:\", pred_nn, prob_nn)\n"
   ]
  }
 ],
 "metadata": {},
 "nbformat": 4,
 "nbformat_minor": 5
}
